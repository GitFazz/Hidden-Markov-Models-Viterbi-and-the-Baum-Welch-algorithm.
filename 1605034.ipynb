{
 "cells": [
  {
   "cell_type": "code",
   "execution_count": 5,
   "metadata": {},
   "outputs": [],
   "source": [
    "import numpy as np\n",
    "\n",
    "# read file \n",
    "\n",
    "data = open(\"Input/data.txt\", \"r\")\n",
    "param = open(\"Input/parameters.txt\", \"r\")\n",
    "\n"
   ]
  },
  {
   "cell_type": "code",
   "execution_count": 6,
   "metadata": {},
   "outputs": [],
   "source": [
    "# read lines from file as numbers   \n",
    "\n",
    "rainfall = []\n",
    "for line in data:\n",
    "    rainfall.append(float(line))\n",
    "\n",
    "\n",
    "N = int(param.readline())\n",
    "\n",
    "trans_matrix = []\n",
    "\n",
    "for i in range(N):\n",
    "    # read line from param\n",
    "    p = [float(x) for x in param.readline().split()]\n",
    "    trans_matrix.append(p)\n",
    "\n",
    "\n",
    "gauss_distro = []\n",
    "for i in range(N):\n",
    "    # read line from param\n",
    "    p = [float(x) for x in param.readline().split()]\n",
    "    gauss_distro.append(p)\n",
    "\n",
    "\n"
   ]
  },
  {
   "cell_type": "code",
   "execution_count": 7,
   "metadata": {},
   "outputs": [],
   "source": [
    "# gaussian distribution function\n",
    "\n",
    "def gauss(x, mu, sigma):\n",
    "    return (1/(sigma*np.sqrt(2*np.pi)))*np.exp(-((x-mu)**2)/(2*sigma**2))\n",
    "\n",
    "    \n",
    "\n"
   ]
  },
  {
   "cell_type": "code",
   "execution_count": null,
   "metadata": {},
   "outputs": [],
   "source": [
    "\n",
    "# emission probabilities\n",
    "emisson_matrix = []\n",
    "\n",
    "for r in rainfall:\n",
    "    emit_prob = []\n",
    "    for i in range(N):\n",
    "        emit_prob.append(gauss(r, gauss_distro[i][0], gauss_distro[i][1]))\n",
    "    emisson_matrix.append(emit_prob)\n",
    "\n",
    "\n",
    "\n",
    "\n",
    "\n",
    "    \n",
    "        "
   ]
  },
  {
   "cell_type": "code",
   "execution_count": null,
   "metadata": {},
   "outputs": [],
   "source": [
    "# viterbi algorithm\n",
    "\n",
    "def viterbi(trans_matrix,emission_matix,start) :\n",
    "    "
   ]
  }
 ],
 "metadata": {
  "interpreter": {
   "hash": "a6f8c3de90b578c42c5dca1ace0652505f65d16b2ece0eaf147a9cf03f55f9e2"
  },
  "kernelspec": {
   "display_name": "Python 3.8.10 64-bit ('base': conda)",
   "language": "python",
   "name": "python3"
  },
  "language_info": {
   "codemirror_mode": {
    "name": "ipython",
    "version": 3
   },
   "file_extension": ".py",
   "mimetype": "text/x-python",
   "name": "python",
   "nbconvert_exporter": "python",
   "pygments_lexer": "ipython3",
   "version": "3.8.10"
  },
  "orig_nbformat": 4
 },
 "nbformat": 4,
 "nbformat_minor": 2
}
