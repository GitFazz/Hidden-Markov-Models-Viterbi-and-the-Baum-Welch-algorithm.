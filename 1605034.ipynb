{
 "cells": [
  {
   "cell_type": "code",
   "execution_count": 11,
   "metadata": {},
   "outputs": [],
   "source": [
    "import numpy as np\n",
    "\n",
    "# read file \n",
    "\n",
    "data = open(\"Input/data.txt\", \"r\")\n",
    "param = open(\"Input/parameters.txt\", \"r\")\n",
    "\n"
   ]
  },
  {
   "cell_type": "code",
   "execution_count": 12,
   "metadata": {},
   "outputs": [],
   "source": [
    "# read lines from file as numbers   \n",
    "\n",
    "rainfall = []\n",
    "for line in data:\n",
    "    rainfall.append(float(line))\n",
    "\n",
    "\n",
    "N = int(param.readline())\n",
    "\n",
    "trans_matrix = []\n",
    "\n",
    "for i in range(N):\n",
    "    # read line from param\n",
    "    p = [float(x) for x in param.readline().split()]\n",
    "    trans_matrix.append(p)\n",
    "\n",
    "\n",
    "# read distro\n",
    "\n",
    "means = [float(x) for x in param.readline().split()]\n",
    "sds = [float(x) for x in param.readline().split()]\n",
    "\n",
    "\n",
    "\n"
   ]
  },
  {
   "cell_type": "code",
   "execution_count": 13,
   "metadata": {},
   "outputs": [],
   "source": [
    "# gaussian distribution function\n",
    "\n",
    "def gauss(x, mu, sigma):\n",
    "    return (1.0 / (sigma * np.sqrt(2 * np.pi))) * np.exp(-0.5 * ((x - mu) / sigma) ** 2)\n",
    "\n"
   ]
  },
  {
   "cell_type": "code",
   "execution_count": 14,
   "metadata": {},
   "outputs": [],
   "source": [
    "\n",
    "# emission probabilities\n",
    "emisson_matrix = []\n",
    "\n",
    "n = len(trans_matrix)\n",
    "\n",
    "for i in range(n):\n",
    "    prob = []\n",
    "    for d in rainfall:\n",
    "        prob.append(gauss(d, means[i], sds[i]))\n",
    "    emisson_matrix.append(prob)\n",
    "\n",
    "        "
   ]
  },
  {
   "cell_type": "code",
   "execution_count": 15,
   "metadata": {},
   "outputs": [],
   "source": [
    "# viterbi algorithm\n",
    "\n",
    "def viterbi(A,B,pi) :\n",
    "    A = np.array(A)\n",
    "    B = np.array(B)\n",
    "    pi = np.array(pi)\n",
    " \n",
    "    N = len(A)\n",
    "    T = len(B[0])\n",
    "    \n",
    "    # initialize\n",
    "    delta = np.zeros((N,T))\n",
    "    psi = np.zeros((N,T))\n",
    "\n",
    "    # initial state\n",
    "    delta[:,0] = pi*B[:,0]\n",
    "\n",
    "    # recursion\n",
    "    for t in range(1,T):\n",
    "        for j in range(N):\n",
    "            delta[j,t] = np.max(delta[:,t-1]*A[:,j]) * B[j,t]   \n",
    "    \n",
    "    # psi\n",
    "    for t in range(1,T):\n",
    "        for j in range(N):\n",
    "            psi[j,t] = np.argmax(delta[:,t-1]*A[:,j])\n",
    "\n",
    "    \n",
    "    sol = np.zeros(T)\n",
    "\n",
    "    sol[T-1] = np.argmax(delta[:,T-1])\n",
    "    \n",
    "    for t in range(T-2,-1,-1):\n",
    "        sol[t] = psi[int(sol[t+1]),t+1]\n",
    "    \n",
    "    return sol\n",
    "\n",
    "\n",
    "\n",
    "Sol =  viterbi(trans_matrix,emisson_matrix,[0.5,0.5])\n",
    "\n",
    "# solution write in output file\n",
    "\n",
    "out = open(\"my_output/wo_learing.txt\",\"w\")\n",
    "\n",
    "for s in Sol :\n",
    "    if s == 1 :\n",
    "        out.write(\"La Nina\\n\")\n",
    "    else:\n",
    "        out.write(\"El Nino\\n\")\n",
    "\n",
    "\n",
    "\n",
    "    "
   ]
  },
  {
   "cell_type": "code",
   "execution_count": null,
   "metadata": {},
   "outputs": [],
   "source": []
  }
 ],
 "metadata": {
  "interpreter": {
   "hash": "a6f8c3de90b578c42c5dca1ace0652505f65d16b2ece0eaf147a9cf03f55f9e2"
  },
  "kernelspec": {
   "display_name": "Python 3.8.10 64-bit ('base': conda)",
   "language": "python",
   "name": "python3"
  },
  "language_info": {
   "codemirror_mode": {
    "name": "ipython",
    "version": 3
   },
   "file_extension": ".py",
   "mimetype": "text/x-python",
   "name": "python",
   "nbconvert_exporter": "python",
   "pygments_lexer": "ipython3",
   "version": "3.8.10"
  },
  "orig_nbformat": 4
 },
 "nbformat": 4,
 "nbformat_minor": 2
}
