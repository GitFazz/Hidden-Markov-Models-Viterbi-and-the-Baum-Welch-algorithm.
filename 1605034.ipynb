{
 "cells": [
  {
   "cell_type": "code",
   "execution_count": 650,
   "metadata": {},
   "outputs": [],
   "source": [
    "import numpy as np\n",
    "from scipy.stats import norm\n",
    "\n",
    "# read file \n",
    "\n",
    "data = open(\"Input/data.txt\", \"r\")\n",
    "param = open(\"Input/parameters.txt\", \"r\")\n",
    "\n"
   ]
  },
  {
   "cell_type": "code",
   "execution_count": 651,
   "metadata": {},
   "outputs": [],
   "source": [
    "# read lines from file as numbers   \n",
    "\n",
    "rainfall = []\n",
    "for line in data:\n",
    "    rainfall.append(float(line))\n",
    "\n",
    "\n",
    "N = int(param.readline())\n",
    "\n",
    "trans_matrix = []\n",
    "\n",
    "for i in range(N):\n",
    "    p = [float(x) for x in param.readline().split()]\n",
    "    trans_matrix.append(p)\n",
    "\n",
    "\n",
    "# read distro\n",
    "\n",
    "means = [float(x) for x in param.readline().split()]\n",
    "sds = [np.sqrt(float(x)) for x in param.readline().split()]\n",
    "\n",
    "\n",
    "\n"
   ]
  },
  {
   "cell_type": "code",
   "execution_count": 652,
   "metadata": {},
   "outputs": [],
   "source": [
    "# gaussian distribution function\n",
    "\n",
    "def gauss(x , mean , sd):\n",
    "    prob_density = norm.pdf(x, loc=mean, scale=sd)\n",
    "    return prob_density\n",
    "\n",
    "\n",
    "# find stationary distribution for given transition matrix\n",
    "\n",
    "def get_stationary_distribution(A,pi):\n",
    "    A = np.array(A)\n",
    "    pi = np.array(pi)\n",
    "    \n",
    "    N = len(A)\n",
    "    \n",
    "    # initial state\n",
    "    x = pi\n",
    "    \n",
    "    # recursion\n",
    "    for i in range(N):\n",
    "        x = np.dot(x,A)\n",
    "    \n",
    "    return x\n"
   ]
  },
  {
   "cell_type": "code",
   "execution_count": 653,
   "metadata": {},
   "outputs": [],
   "source": [
    "\n",
    "# emission probabilities\n",
    "emisson_matrix = []\n",
    "\n",
    "n = len(trans_matrix)\n",
    "\n",
    "for i in range(n):\n",
    "    prob = []\n",
    "    for d in rainfall:\n",
    "        prob.append(gauss(d, means[i], sds[i]))\n",
    "    emisson_matrix.append(prob)\n",
    "\n"
   ]
  },
  {
   "cell_type": "markdown",
   "metadata": {},
   "source": [
    "# viterbi algorithm"
   ]
  },
  {
   "cell_type": "code",
   "execution_count": 654,
   "metadata": {},
   "outputs": [],
   "source": [
    "\n",
    "def viterbi(A,B,pi) :\n",
    "    A = np.array(A)\n",
    "    B = np.array(B)\n",
    "    pi = np.array(pi)\n",
    " \n",
    "    N = len(A)\n",
    "    T = len(B[0])\n",
    "\n",
    "    # initial state \n",
    "    delta = np.zeros((N,T))\n",
    "    psi = np.zeros((N,T))\n",
    "    delta[:,0] = np.log( pi*B[:,0] )\n",
    "    psi[:,0] = 0\n",
    "    \n",
    "    # recursion\n",
    "    for t in range(1,T):\n",
    "        for j in range(N):\n",
    "            # log of max prob\n",
    "            max_prob = -np.inf\n",
    "            max_state = 0\n",
    "\n",
    "            for i in range(N):\n",
    "                prob = delta[i,t-1] + np.log( A[i,j] * B[j,t] )\n",
    "                if prob > max_prob:\n",
    "                    max_prob = prob\n",
    "                    max_state = i\n",
    "            \n",
    "            delta[j,t] = max_prob\n",
    "            psi[j,t] = max_state\n",
    "\n",
    "    \n",
    "    # backtracking\n",
    "    \n",
    "    sol = np.zeros(T)\n",
    "    sol[T-1] = np.argmax(delta[:,T-1])\n",
    "    \n",
    "    for t in range(T-1,0,-1):\n",
    "        sol[t-1] = psi[int(sol[t]),t]\n",
    "    \n",
    "    return sol\n",
    "\n",
    "\n",
    "\n",
    "pi = get_stationary_distribution(trans_matrix,[0.5,0.5])\n",
    "\n",
    "Sol =  viterbi(trans_matrix,emisson_matrix,pi)\n",
    "\n",
    "\n",
    "# solution write in output file\n",
    "\n",
    "out = open(\"my_output/wo_learing.txt\",\"w\")\n",
    "\n",
    "for s in Sol :\n",
    "    if s == 1 :\n",
    "        out.write(\"La Nina\\n\")\n",
    "    else:\n",
    "        out.write(\"El Nino\\n\")\n",
    "\n",
    "\n",
    "\n",
    "    "
   ]
  },
  {
   "cell_type": "markdown",
   "metadata": {},
   "source": [
    "# Baum Welch Algorithm"
   ]
  },
  {
   "cell_type": "code",
   "execution_count": 655,
   "metadata": {},
   "outputs": [],
   "source": [
    "# baum welch algorithm for learning parameters\n",
    "\n",
    "def Baum_welch(A,B,pi) :\n",
    "    A = np.array(A)\n",
    "    B = np.array(B)\n",
    "    pi = np.array(pi)\n",
    "\n",
    "    N = len(A)\n",
    "    T = len(B[0])\n",
    "\n",
    "    # forward \n",
    "    alpha = np.zeros((N,T))\n",
    "    alpha[:,0] = pi*B[:,0]\n",
    "\n",
    "    for t in range(1,T):\n",
    "        for j in range(N):\n",
    "            alpha[j,t] = np.sum(alpha[:,t-1]*A[:,j])*B[j,t]\n",
    "\n",
    "    # normalize alpha \n",
    "    for i in range(N):\n",
    "        alpha[i,:] /= np.sum(alpha[i,:])\n",
    "    \n",
    "    \n"
   ]
  },
  {
   "cell_type": "code",
   "execution_count": 656,
   "metadata": {},
   "outputs": [
    {
     "name": "stdout",
     "output_type": "stream",
     "text": [
      "alpha :  [[9.31459231e-138 1.75048183e-166 7.71220095e-155 ... 0.00000000e+000\n",
      "  0.00000000e+000 0.00000000e+000]\n",
      " [9.01419844e-001 8.85081756e-002 9.34972731e-003 ... 0.00000000e+000\n",
      "  0.00000000e+000 0.00000000e+000]]\n"
     ]
    }
   ],
   "source": [
    "Baum_welch(trans_matrix,emisson_matrix,pi)"
   ]
  }
 ],
 "metadata": {
  "interpreter": {
   "hash": "a6f8c3de90b578c42c5dca1ace0652505f65d16b2ece0eaf147a9cf03f55f9e2"
  },
  "kernelspec": {
   "display_name": "Python 3.8.10 64-bit ('base': conda)",
   "language": "python",
   "name": "python3"
  },
  "language_info": {
   "codemirror_mode": {
    "name": "ipython",
    "version": 3
   },
   "file_extension": ".py",
   "mimetype": "text/x-python",
   "name": "python",
   "nbconvert_exporter": "python",
   "pygments_lexer": "ipython3",
   "version": "3.8.10"
  },
  "orig_nbformat": 4
 },
 "nbformat": 4,
 "nbformat_minor": 2
}
